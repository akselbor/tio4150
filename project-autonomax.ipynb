{
 "cells": [
  {
   "cell_type": "code",
   "execution_count": null,
   "metadata": {},
   "outputs": [],
   "source": [
    "import sys\n",
    "# Install gurobi\n",
    "!{sys.executable} -m pip install -i https://pypi.gurobi.com gurobipy\n",
    "!{sys.executable} -m pip install plotly geopy\n",
    "\n",
    "import numpy as np\n",
    "import pandas as pd\n",
    "import matplotlib.pyplot as plt\n",
    "import pandas as pd\n",
    "from itertools import product\n",
    "\n",
    "import gurobipy as gp\n",
    "from gurobipy import GRB, quicksum\n",
    "\n",
    "# These are ours\n",
    "import problem\n",
    "import visualization"
   ]
  },
  {
   "cell_type": "code",
   "execution_count": null,
   "metadata": {},
   "outputs": [],
   "source": [
    "def normalize(i, j):\n",
    "    assert i != j\n",
    "    return (i, j) if i < j else (j, i)"
   ]
  },
  {
   "cell_type": "markdown",
   "metadata": {},
   "source": [
    "## Problem configuration"
   ]
  },
  {
   "cell_type": "code",
   "execution_count": null,
   "metadata": {},
   "outputs": [],
   "source": [
    "from problem import C, D, cities, B\n",
    "\n",
    "# What scenario we will run\n",
    "scenario = 0\n",
    "\n",
    "C = problem.C\n",
    "D = problem.D\n",
    "cities = problem.cities\n",
    "B = problem.B\n",
    "demand = B[scenario]\n",
    "\n",
    "print(f'|C| = {len(cities)}, D = {len(D)} x {len(D[0])}, B = {len(B)} x {len(B[0])}, scenario = {scenario}')"
   ]
  },
  {
   "cell_type": "code",
   "execution_count": null,
   "metadata": {},
   "outputs": [],
   "source": [
    "C = 10\n",
    "D = D[:C, :C]\n",
    "cities = cities[:C]\n",
    "demand = demand[:C]"
   ]
  },
  {
   "cell_type": "code",
   "execution_count": null,
   "metadata": {},
   "outputs": [],
   "source": [
    "# 1 if the core net should be a cycle, 0 if it should be a path\n",
    "Z = 1\n",
    "# The number of cities in the core net\n",
    "NC = 4"
   ]
  },
  {
   "cell_type": "markdown",
   "metadata": {},
   "source": [
    "## Model formulation"
   ]
  },
  {
   "cell_type": "code",
   "execution_count": null,
   "metadata": {},
   "outputs": [],
   "source": [
    "# The set of cities (indices)\n",
    "CITIES = list(range(C))\n",
    "# The set of undirected edges\n",
    "EDGES = [(i, j) for i, j in product(CITIES, repeat=2) if j > i]"
   ]
  },
  {
   "cell_type": "code",
   "execution_count": null,
   "metadata": {},
   "outputs": [],
   "source": [
    "# The optimization model\n",
    "model = gp.Model('autonomax')"
   ]
  },
  {
   "cell_type": "code",
   "execution_count": null,
   "metadata": {},
   "outputs": [],
   "source": [
    "is_control_center = model.addVars(CITIES, vtype=GRB.BINARY, name='is-control-center')\n",
    "\n",
    "# There is exactly one control center\n",
    "model.addConstr(quicksum(is_control_center[c] for c in CITIES) == 1);"
   ]
  },
  {
   "cell_type": "code",
   "execution_count": null,
   "metadata": {},
   "outputs": [],
   "source": [
    "# Whether or not the edge between city `i` and `j` is part of the core net\n",
    "is_core_edge = model.addVars(EDGES, vtype=GRB.BINARY, name='is-core-edge')\n",
    "\n",
    "# Whether or not a city `i` is part of the core net\n",
    "is_core_city = model.addVars(C, vtype=GRB.BINARY, name='is-core-city')\n",
    "\n",
    "# The control center is required to be one of the core cities\n",
    "model.addConstrs(\n",
    "    (is_core_city[i] >= is_control_center[i] for i in CITIES), \n",
    "    name='control-center-directly-connected'\n",
    ")\n",
    "\n",
    "# Force cc to 0 if a city has no adjacent core edges\n",
    "model.addConstrs(\n",
    "    (is_core_city[i] <= sum(is_core_edge[normalize(i, j)] for j in CITIES if j != i) for i in CITIES),\n",
    "    name='core-city-ub'\n",
    ")\n",
    "\n",
    "# Force cc to 1 if a city has an adjacent core edge\n",
    "model.addConstrs(\n",
    "    (is_core_city[i] >= is_core_edge[normalize(i, j)] for i, j in product(CITIES, repeat=2) if i != j),\n",
    "    name='core-city-lb'\n",
    ")\n",
    "\n",
    "# A cycle has |V| = |E|. A path has |V| = |E| + 1\n",
    "model.addConstr(sum(is_core_city[i] for i in CITIES) == sum(is_core_edge[i, j] for i, j in EDGES) + 1 - Z)\n",
    "\n",
    "# Ensure that all core nodes have at most degree 2\n",
    "model.addConstrs(\n",
    "    (2 * is_core_city[i] >= sum(is_core_edge[normalize(i, j)] for j in CITIES if j != i) for i in CITIES),\n",
    "    name='disallow-core-tree',\n",
    ")\n",
    "\n",
    "# Ensure the number of core cities equals NC\n",
    "model.addConstr(\n",
    "    sum(is_core_city[i] for i in CITIES) == NC, \n",
    "    name='exactly-nc-core-cities'\n",
    ");"
   ]
  },
  {
   "cell_type": "code",
   "execution_count": null,
   "metadata": {},
   "outputs": [],
   "source": [
    "T = NC\n",
    "\n",
    "is_connected_step = model.addVars(C, T, vtype=GRB.BINARY, name='is-connected-step')\n",
    "is_connectable_step = model.addVars(C, C, range(1, T), vtype=GRB.BINARY, name='is-connectable-step')\n",
    "\n",
    "# At timestep 0, the control center is the only connected city\n",
    "model.addConstrs(\n",
    "    (is_connected_step[i, 0] == is_control_center[i] for i in CITIES),\n",
    "    name='control-center-is-connected',\n",
    ")\n",
    "\n",
    "# A city `i` is connectable to a city `j` at time `t` if (i, j) ∈ core edges U sub edges and `j`\n",
    "# is connected at time `t - 1`\n",
    "model.addConstrs(\n",
    "    (2 * is_connectable_step[i, j, t] <= is_connected_step[i, t - 1] + is_connected_step[j, t - 1] + is_core_edge[i, j] for t, (i, j) in product(range(1, T), EDGES)), \n",
    "    name = 'is-connectable'\n",
    ")\n",
    "\n",
    "# At timestep n, a city can be marked as connected if it has a core edge to a city \n",
    "# that was set as connected on timestep (n - 1)\n",
    "model.addConstrs(\n",
    "    (is_connected_step[i, t] <= sum(is_connectable_step[(*normalize(i, j), t)] for j in CITIES if j != i) for t, i in product(range(1, T), CITIES)),\n",
    "    name='is-connected-timestep'\n",
    ")\n",
    "\n",
    "# Ensure that all core cities are connected at some timestep\n",
    "model.addConstrs(\n",
    "    (sum(is_connected_step[i, t] for t in range(T)) == is_core_city[i] for i in CITIES),\n",
    "    name='connected-graph'\n",
    ");"
   ]
  },
  {
   "cell_type": "code",
   "execution_count": null,
   "metadata": {},
   "outputs": [],
   "source": [
    "# How much (directed) demand is sent along an edge between two cities\n",
    "flow = model.addVars(CITIES, CITIES, name='flow')\n",
    "# What direction a flow is sent in. For i < j: 1 = forward (i -> j), 0 = backward (j -> i)\n",
    "direction = model.addVars(EDGES, vtype=GRB.BINARY, name='flow-direction')\n",
    "\n",
    "# We can only run flow in a single direction\n",
    "model.addConstrs(\n",
    "    (flow[i, j] <= sum(demand) * direction[i, j] for (i, j) in EDGES),\n",
    "    name='flow-dir-forward'\n",
    ")\n",
    "\n",
    "# We can only run flow in a single direction\n",
    "model.addConstrs(\n",
    "    (flow[j, i] <= sum(demand) * (1 - direction[i, j]) for (i, j) in EDGES),\n",
    "    name='flow-dir-backward'\n",
    ")\n",
    "\n",
    "# The required surplus must equal the difference between (ingoing + self demand) - (outgoing)\n",
    "model.addConstrs(\n",
    "    (sum(demand) * is_control_center[i] == demand[i] + sum(flow[j, i] for j in CITIES if j != i) - sum(flow[i, j] for j in CITIES if j != i) for i in CITIES),\n",
    "    name='conservation-of-flow'\n",
    ");"
   ]
  },
  {
   "cell_type": "code",
   "execution_count": null,
   "metadata": {},
   "outputs": [],
   "source": [
    "# Whether an edge is a sub edge, i.e. part of the sub network.\n",
    "is_sub_edge = model.addVars(EDGES, vtype=GRB.BINARY, name='is-sub-edge')\n",
    "\n",
    "# We can only send flow along an edge if it is either a sub edge or a core edge\n",
    "model.addConstrs(\n",
    "    (sum(demand) * (is_sub_edge[e] + is_core_edge[e]) >= flow[e] + flow[tuple(reversed(e))] for e in EDGES),\n",
    "    name='force-is-edge-up-if-flow',\n",
    "    \n",
    ")\n",
    "\n",
    "# Force is_sub_edge to 0 if there is no flow (with M = min(demand))\n",
    "model.addConstrs(\n",
    "   (min(demand) * is_sub_edge[e] <= flow[e] + flow[tuple(reversed(e))] for e in EDGES),\n",
    "    name='force-is-edge-down-if-no-flow',\n",
    ")\n",
    "\n",
    "# An edge can not be both a core edge and a sub edge\n",
    "model.addConstrs(\n",
    "    (is_core_edge[e] + is_sub_edge[e] <= 1 for e in EDGES),\n",
    "    name='disallow-is-both-sub-and-core',\n",
    ")\n",
    "\n",
    "# The cost of an edge excluding its cost as a core edge\n",
    "edge_cost = model.addVars(EDGES, name='edge-cost')\n",
    "\n",
    "# The edge cost must be bounded below by 10 + (0.1 D_ij)**1.5 * B if it is a sub edge\n",
    "M = lambda e: 10 + (0.1 * D[e])**1.5 * sum(demand)\n",
    "model.addConstrs(\n",
    "    (edge_cost[e] + M(e) * is_core_edge[e] >= 10 * is_sub_edge[e] + (0.1 * D[e])**1.5 * (flow[e] + flow[tuple(reversed(e))]) for e in EDGES),\n",
    "    name='edge-cost-lb'\n",
    ");"
   ]
  },
  {
   "cell_type": "code",
   "execution_count": null,
   "metadata": {
    "scrolled": false
   },
   "outputs": [],
   "source": [
    "model.setObjective(sum(edge_cost[e] + 10 * D[e] * is_core_edge[e] for e in EDGES), GRB.MINIMIZE)\n",
    "model.Params.timeLimit = 600.0\n",
    "model.Params.MIPFocus = 2\n",
    "model.optimize()"
   ]
  },
  {
   "cell_type": "code",
   "execution_count": null,
   "metadata": {},
   "outputs": [],
   "source": [
    "relaxation = model.relax()\n",
    "relaxation.optimize()"
   ]
  },
  {
   "cell_type": "code",
   "execution_count": null,
   "metadata": {
    "scrolled": false
   },
   "outputs": [],
   "source": [
    "for v in model.getVars():\n",
    "    if abs(v.x) < 1e-8 or 'is-connect' in v.varName or 'flow-direction' in v.varName or 'is-sub' in v.varName:\n",
    "        continue\n",
    "    \n",
    "    print(f'{v.varName} = {v.x}')"
   ]
  },
  {
   "cell_type": "code",
   "execution_count": null,
   "metadata": {},
   "outputs": [],
   "source": [
    "sum(v.x for v in edge_cost.values())"
   ]
  },
  {
   "cell_type": "code",
   "execution_count": null,
   "metadata": {},
   "outputs": [],
   "source": [
    "def non_zero(items):\n",
    "    for (key, v) in items.items():\n",
    "        if abs(v.x) > 1e-9:\n",
    "            yield key\n",
    "            \n",
    "def city_output():\n",
    "    core_city = list(non_zero(is_core_city))\n",
    "    control_center = list(non_zero(is_control_center))\n",
    "    \n",
    "    return [{\n",
    "            'Index': i,\n",
    "            'Name': cities[i],\n",
    "            'IsControlCenter': i in control_center,\n",
    "            'Demand': demand[i],\n",
    "            'IngoingFlow': sum(flow[j, i] for j in CITIES if j != i).getValue(),\n",
    "            'OutgoingFlow': sum(flow[i, j] for j in CITIES if j != i).getValue(),\n",
    "        } for i in CITIES]\n",
    "    \n",
    "            \n",
    "def edge_output():\n",
    "    core = list(non_zero(is_core_edge))\n",
    "    utilized = list(non_zero(flow))\n",
    "    \n",
    "    return [{\n",
    "        'From': cities[i],\n",
    "        'To': cities[j],\n",
    "        'Type': 'CORE' if normalize(i, j) in core else 'SUB',\n",
    "        'Flow': abs(flow[i, j].x - flow[j, i].x),\n",
    "        'Cost': (10 * D[i, j] * is_core_edge[normalize(i, j)] + edge_cost[normalize(i, j)]).getValue(),\n",
    "        'Distance': D[i, j],\n",
    "    } for (i, j) in set(core + utilized)]"
   ]
  },
  {
   "cell_type": "code",
   "execution_count": null,
   "metadata": {},
   "outputs": [],
   "source": [
    "pd.DataFrame(city_output())"
   ]
  },
  {
   "cell_type": "code",
   "execution_count": null,
   "metadata": {},
   "outputs": [],
   "source": [
    "pd.DataFrame(edge_output())"
   ]
  },
  {
   "cell_type": "code",
   "execution_count": null,
   "metadata": {},
   "outputs": [],
   "source": [
    "visualization.show(city_output(), edge_output())"
   ]
  }
 ],
 "metadata": {
  "kernelspec": {
   "display_name": "Python 3",
   "language": "python",
   "name": "python3"
  },
  "language_info": {
   "codemirror_mode": {
    "name": "ipython",
    "version": 3
   },
   "file_extension": ".py",
   "mimetype": "text/x-python",
   "name": "python",
   "nbconvert_exporter": "python",
   "pygments_lexer": "ipython3",
   "version": "3.8.3"
  }
 },
 "nbformat": 4,
 "nbformat_minor": 4
}
