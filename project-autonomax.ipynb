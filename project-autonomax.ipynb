{
 "cells": [
  {
   "cell_type": "code",
   "execution_count": null,
   "metadata": {},
   "outputs": [],
   "source": [
    "import sys\n",
    "# Install gurobi\n",
    "!{sys.executable} -m pip install -i https://pypi.gurobi.com gurobipy\n",
    "!{sys.executable} -m pip install plotly geopy\n",
    "\n",
    "import numpy as np\n",
    "import pandas as pd\n",
    "import matplotlib.pyplot as plt\n",
    "import pandas as pd\n",
    "from itertools import product\n",
    "\n",
    "import gurobipy as gp\n",
    "from gurobipy import GRB, quicksum\n",
    "\n",
    "# These are ours\n",
    "import problem\n",
    "import visualization"
   ]
  },
  {
   "cell_type": "code",
   "execution_count": null,
   "metadata": {},
   "outputs": [],
   "source": [
    "def normalize(i, j):\n",
    "    assert i != j\n",
    "    return (i, j) if i < j else (j, i)"
   ]
  },
  {
   "cell_type": "markdown",
   "metadata": {},
   "source": [
    "## Problem configuration"
   ]
  },
  {
   "cell_type": "code",
   "execution_count": null,
   "metadata": {},
   "outputs": [],
   "source": [
    "from model import Autonomax, Config\n",
    "\n",
    "# Run on the first |C| cities (mostly for testing)\n",
    "C = 41\n",
    "\n",
    "# What scenario we will be utilizing\n",
    "scenario = 0\n",
    "# The number of cities in the core net\n",
    "NC = 3 \n",
    "# 1 if the core net should be a cycle; 0 if it shoul be a path.\n",
    "Z = 1\n",
    "\n",
    "autonomax = Autonomax(\n",
    "    Config(\n",
    "        cities=problem.cities[:C],\n",
    "        distances=problem.D[:C, :C],\n",
    "        demand=problem.B[scenario][:C],\n",
    "        core_city_count=NC,\n",
    "        core_net_is_cycle=Z,\n",
    "    )\n",
    ")"
   ]
  },
  {
   "cell_type": "code",
   "execution_count": null,
   "metadata": {},
   "outputs": [],
   "source": [
    "A = autonomax.model.getA()\n",
    "\n",
    "count = lambda d: len(d) if isinstance(d, gp.tupledict) else 1\n",
    "\n",
    "V = sum(count(v) for v in autonomax.variables.values())\n",
    "C = sum(count(c) for c in autonomax.constraints.values())\n",
    "\n",
    "print(f'V = {V}, C = {C}')\n",
    "\n",
    "fig, ax = plt.subplots(1, figsize=(128, 128 * C/V))\n",
    "ax.set_xticklabels([])\n",
    "ax.set_yticklabels([])\n",
    "plt.spy(A)\n",
    "\n",
    "\n",
    "total = 0\n",
    "print(f'\\nCONSTRAINT SETS:')\n",
    "for (name, constraint) in autonomax.constraints.items():\n",
    "    constraints_in_set = count(constraint)\n",
    "    print(f'{constraints_in_set:>5} | {name}')\n",
    "    #plt.gcf().text(0.07, 0.69 - 0.4 * (total + 0.5 * count(constraint)) / C, name, fontsize=14)\n",
    "    total += constraints_in_set\n",
    "    plt.plot([0, V], [total - 0.5, total - 0.5], color='grey')\n",
    "    \n",
    "total = 0\n",
    "print(f'\\nVARIABLE SETS:')\n",
    "for (name, variables) in autonomax.variables.items():\n",
    "    variables_in_set = count(variables)\n",
    "    print(f'{variables_in_set:>5} | {name}')\n",
    "    #plt.gcf().text(0.1 + 0.8 * (total + 0.5*count(variables)) / V, 0.8, name, fontsize=14)\n",
    "    total += count(variables)\n",
    "    plt.plot([total - 0.5, total - 0.5], [0, C], color='grey')\n",
    "    \n",
    "plt.savefig('constraint-matrix.png', dpi=200)"
   ]
  },
  {
   "cell_type": "code",
   "execution_count": null,
   "metadata": {},
   "outputs": [],
   "source": [
    "autonomax.model.Params.timeLimit = 600.0\n",
    "autonomax.model.optimize()"
   ]
  },
  {
   "cell_type": "markdown",
   "metadata": {},
   "source": [
    "## Solution"
   ]
  },
  {
   "cell_type": "code",
   "execution_count": null,
   "metadata": {},
   "outputs": [],
   "source": [
    "pd.DataFrame(autonomax.city_info())"
   ]
  },
  {
   "cell_type": "code",
   "execution_count": null,
   "metadata": {},
   "outputs": [],
   "source": [
    "pd.DataFrame(autonomax.edge_info())"
   ]
  },
  {
   "cell_type": "code",
   "execution_count": null,
   "metadata": {},
   "outputs": [],
   "source": [
    "visualization.show(pd.DataFrame(autonomax.city_info()), pd.DataFrame(autonomax.edge_info()))"
   ]
  }
 ],
 "metadata": {
  "kernelspec": {
   "display_name": "Python 3",
   "language": "python",
   "name": "python3"
  },
  "language_info": {
   "codemirror_mode": {
    "name": "ipython",
    "version": 3
   },
   "file_extension": ".py",
   "mimetype": "text/x-python",
   "name": "python",
   "nbconvert_exporter": "python",
   "pygments_lexer": "ipython3",
   "version": "3.8.3"
  }
 },
 "nbformat": 4,
 "nbformat_minor": 4
}
