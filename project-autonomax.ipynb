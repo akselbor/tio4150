{
 "cells": [
  {
   "cell_type": "code",
   "execution_count": null,
   "metadata": {},
   "outputs": [],
   "source": [
    "import sys\n",
    "# Install gurobi\n",
    "!{sys.executable} -m pip install -i https://pypi.gurobi.com gurobipy\n",
    "!{sys.executable} -m pip install plotly geopy\n",
    "\n",
    "import numpy as np\n",
    "import pandas as pd\n",
    "import matplotlib.pyplot as plt\n",
    "import pandas as pd\n",
    "from itertools import product\n",
    "\n",
    "import gurobipy as gp\n",
    "from gurobipy import GRB, quicksum\n",
    "\n",
    "# These are ours\n",
    "import problem\n",
    "import visualization"
   ]
  },
  {
   "cell_type": "code",
   "execution_count": null,
   "metadata": {},
   "outputs": [],
   "source": [
    "def normalize(i, j):\n",
    "    assert i != j\n",
    "    return (i, j) if i < j else (j, i)"
   ]
  },
  {
   "cell_type": "markdown",
   "metadata": {},
   "source": [
    "## Problem configuration"
   ]
  },
  {
   "cell_type": "code",
   "execution_count": null,
   "metadata": {},
   "outputs": [],
   "source": [
    "from model import Autonomax, Config\n",
    "\n",
    "# Run on the first |C| cities (mostly for testing)\n",
    "C = 25\n",
    "\n",
    "# What scenario we will be utilizing\n",
    "scenario = 0\n",
    "# The number of cities in the core net\n",
    "NC = 4\n",
    "# 1 if the core net should be a cycle; 0 if it shoul be a path.\n",
    "Z = 1\n",
    "\n",
    "autonomax = Autonomax(\n",
    "    Config(\n",
    "        cities=problem.cities[:C],\n",
    "        distances=problem.D[:C, :C],\n",
    "        demand=problem.B[scenario][:C],\n",
    "        core_city_count=NC,\n",
    "        core_net_is_cycle=Z,\n",
    "    )\n",
    ")"
   ]
  },
  {
   "cell_type": "code",
   "execution_count": null,
   "metadata": {},
   "outputs": [],
   "source": [
    "autonomax.model.Params.timeLimit = 600.0\n",
    "\n",
    "autonomax.model.optimize()"
   ]
  },
  {
   "cell_type": "code",
   "execution_count": null,
   "metadata": {},
   "outputs": [],
   "source": [
    "pd.DataFrame(autonomax.city_info())"
   ]
  },
  {
   "cell_type": "code",
   "execution_count": null,
   "metadata": {},
   "outputs": [],
   "source": [
    "pd.DataFrame(autonomax.edge_info())"
   ]
  },
  {
   "cell_type": "code",
   "execution_count": null,
   "metadata": {},
   "outputs": [],
   "source": [
    "visualization.show(pd.DataFrame(autonomax.city_info()), pd.DataFrame(autonomax.edge_info()))"
   ]
  }
 ],
 "metadata": {
  "kernelspec": {
   "display_name": "Python 3",
   "language": "python",
   "name": "python3"
  },
  "language_info": {
   "codemirror_mode": {
    "name": "ipython",
    "version": 3
   },
   "file_extension": ".py",
   "mimetype": "text/x-python",
   "name": "python",
   "nbconvert_exporter": "python",
   "pygments_lexer": "ipython3",
   "version": "3.8.3"
  }
 },
 "nbformat": 4,
 "nbformat_minor": 4
}
